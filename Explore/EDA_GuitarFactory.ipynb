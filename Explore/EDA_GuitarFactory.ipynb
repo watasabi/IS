{
 "cells": [
  {
   "cell_type": "code",
   "execution_count": 1,
   "metadata": {},
   "outputs": [],
   "source": [
    "import pandas as pd\n",
    "import numpy as np\n",
    "\n",
    "import matplotlib.pyplot as plt\n",
    "import seaborn as sns\n",
    "import simpy"
   ]
  },
  {
   "cell_type": "code",
   "execution_count": 2,
   "metadata": {},
   "outputs": [
    {
     "name": "stdout",
     "output_type": "stream",
     "text": [
      "Author: Rodrigo W Pisaia\n",
      "\n",
      "Python implementation: CPython\n",
      "Python version       : 3.10.14\n",
      "IPython version      : 8.27.0\n",
      "\n",
      "simpy     : 4.1.1\n",
      "matplotlib: 3.9.2\n",
      "pandas    : 2.2.3\n",
      "seaborn   : 0.13.2\n",
      "numpy     : 2.1.1\n",
      "\n"
     ]
    }
   ],
   "source": [
    "%reload_ext watermark\n",
    "%watermark -a \"Rodrigo W Pisaia\" --iversions --python"
   ]
  },
  {
   "cell_type": "markdown",
   "metadata": {},
   "source": [
    "# `GuitarSchema`\n",
    "![GuitarSchema](./GuitarSchema.png)\n"
   ]
  },
  {
   "cell_type": "code",
   "execution_count": 3,
   "metadata": {},
   "outputs": [],
   "source": [
    "wood_capacity = 1000\n",
    "initial_wood = 500\n",
    "dispatch_capacity = 500\n",
    "\n",
    "class Guitar_factory:\n",
    "    def __init__(self, env):\n",
    "        self.wood = simpy.Container(env, capacity=wood_capacity, init=initial_wood)\n",
    "        self.dispatch = simpy.Container(env, capacity=dispatch_capacity, init=0)"
   ]
  },
  {
   "cell_type": "code",
   "execution_count": 5,
   "metadata": {},
   "outputs": [],
   "source": [
    "def body_maker(env, guitar_factory):\n",
    "    while True:\n",
    "        yield guitar_factory.wood.get(1)\n",
    "        body_time=1\n",
    "        yield env.timeout(body_time)\n",
    "        yield guitar_factory.dispatch.put(1)\n",
    "\n",
    "def neck_maker(env, guitar_factory):\n",
    "    while True:\n",
    "        yield guitar_factory.wood.get(1)\n",
    "        neck_time=1\n",
    "        yield env.timeout(neck_time)\n",
    "        yield guitar_factory.dispatch.put(2)"
   ]
  },
  {
   "cell_type": "code",
   "execution_count": 6,
   "metadata": {},
   "outputs": [
    {
     "name": "stdout",
     "output_type": "stream",
     "text": [
      "Dispatch has 117 bodies and necks ready to go!\n"
     ]
    }
   ],
   "source": [
    "#working hours\n",
    "hours = 8\n",
    "#business days\n",
    "days = 5\n",
    "#total working time (hours)\n",
    "total_time = hours * days\n",
    "\n",
    "env = simpy.Environment()\n",
    "guitar_factory = Guitar_factory(env)\n",
    "\n",
    "body_maker_process = env.process(body_maker(env, guitar_factory))\n",
    "neck_maker_process = env.process(neck_maker(env, guitar_factory))\n",
    "\n",
    "env.run(until = total_time)\n",
    "print(f'Dispatch has %d bodies and necks ready to go!' % guitar_factory.dispatch.level)"
   ]
  },
  {
   "cell_type": "code",
   "execution_count": 7,
   "metadata": {},
   "outputs": [
    {
     "data": {
      "text/plain": [
       "{'Wood': [1000, 500], 'Dispatch': [500, 117]}"
      ]
     },
     "execution_count": 7,
     "metadata": {},
     "output_type": "execute_result"
    }
   ],
   "source": [
    "# get data\n",
    "data = {'Wood': [wood_capacity, initial_wood],\n",
    "        'Dispatch': [dispatch_capacity, guitar_factory.dispatch.level]}\n",
    "data "
   ]
  },
  {
   "cell_type": "markdown",
   "metadata": {},
   "source": [
    "# `Adding Some Stuff`"
   ]
  },
  {
   "cell_type": "code",
   "execution_count": 9,
   "metadata": {},
   "outputs": [],
   "source": [
    "wood_capacity = 1000\n",
    "initial_wood = 500\n",
    "dispatch_capacity = 500\n",
    "\n",
    "eletronic_capacity = 100\n",
    "initial_eletronic = 100\n",
    "\n",
    "pre_paint_capacity = 100\n",
    "post_paint_capacity = 200\n",
    "\n",
    "\n",
    "class GuitarFactory:\n",
    "    def __init__(self, env):\n",
    "        self.wood = simpy.Container(env, capacity=wood_capacity, init=initial_wood)\n",
    "        self.electronic = simpy.Container(\n",
    "            env, capacity=eletronic_capacity, init=initial_eletronic\n",
    "        )\n",
    "        self.pre_paint = simpy.Container(env, capacity=pre_paint_capacity, init=0)\n",
    "        self.post_paint = simpy.Container(env, capacity=post_paint_capacity, init=0)\n",
    "        self.dispatch = simpy.Container(env, capacity=dispatch_capacity, init=0)"
   ]
  },
  {
   "cell_type": "code",
   "execution_count": 10,
   "metadata": {},
   "outputs": [],
   "source": [
    "def painter(env, guitar_factory):\n",
    "    while True:\n",
    "        yield guitar_factory.pre_paint.get(10)\n",
    "        paint_time = 4\n",
    "        yield env.timeout(paint_time)\n",
    "        yield guitar_factory.post_paint.put(10)\n",
    "\n",
    "def assembler(env, guitar_factory):\n",
    "    while True:\n",
    "        yield guitar_factory.post_paint.get(2)\n",
    "        yield guitar_factory.electronic.get(1)\n",
    "        assembling_time = 1\n",
    "        yield env.timeout(assembling_time)\n",
    "        yield guitar_factory.dispatch.put(1)"
   ]
  },
  {
   "cell_type": "code",
   "execution_count": 12,
   "metadata": {},
   "outputs": [
    {
     "name": "stdout",
     "output_type": "stream",
     "text": [
      "Pre paint has 0 bodies and necks ready to be painted\n",
      "Post paint has 0 bodies and necks ready to be assembled\n",
      "Dispatch has 117 guitars ready to go!\n",
      "----------------------------------\n",
      "SIMULATION COMPLETED\n"
     ]
    }
   ],
   "source": [
    "env = simpy.Environment()\n",
    "guitar_factory = GuitarFactory(env)\n",
    "\n",
    "body_maker_process = env.process(body_maker(env, guitar_factory))\n",
    "neck_maker_process = env.process(neck_maker(env, guitar_factory))\n",
    "painter_process = env.process(painter(env, guitar_factory))\n",
    "assembler_process = env.process(assembler(env, guitar_factory))\n",
    "\n",
    "env.run(until = total_time)\n",
    "\n",
    "print(f'Pre paint has %d bodies and necks ready to be painted' % guitar_factory.pre_paint.level)\n",
    "print(f'Post paint has %d bodies and necks ready to be assembled' % guitar_factory.post_paint.level)\n",
    "print(f'Dispatch has %d guitars ready to go!' % guitar_factory.dispatch.level)\n",
    "print(f'----------------------------------')\n",
    "print(f'SIMULATION COMPLETED')"
   ]
  },
  {
   "cell_type": "markdown",
   "metadata": {},
   "source": [
    "# Part 3: Stock alarms, supplier calls and normal distribution\n"
   ]
  },
  {
   "cell_type": "code",
   "execution_count": 23,
   "metadata": {},
   "outputs": [
    {
     "name": "stdout",
     "output_type": "stream",
     "text": [
      "STARTING SIMULATION\n",
      "----------------------------------\n"
     ]
    }
   ],
   "source": [
    "import simpy\n",
    "import random\n",
    "\n",
    "print(f'STARTING SIMULATION')\n",
    "print(f'----------------------------------')\n",
    "\n",
    "#-------------------------------------------------\n",
    "\n",
    "#Parameters\n",
    "\n",
    "#working hours\n",
    "hours = 8\n",
    "\n",
    "#business days\n",
    "days = 5\n",
    "\n",
    "#total working time (hours)\n",
    "total_time = hours * days\n",
    "\n",
    "#containers\n",
    "    #wood\n",
    "wood_capacity = 500\n",
    "initial_wood = 100\n",
    "\n",
    "    #electronic\n",
    "electronic_capacity = 200\n",
    "initial_electronic = 200\n",
    "\n",
    "    #paint\n",
    "pre_paint_capacity = 100\n",
    "post_paint_capacity = 200\n",
    "    \n",
    "    #dispatch\n",
    "dispatch_capacity = 500\n",
    "\n",
    "\n",
    "#employees per activity\n",
    "    #body\n",
    "num_body = 2\n",
    "mean_body = 1\n",
    "std_body = 0.1\n",
    "\n",
    "    #neck\n",
    "num_neck = 1\n",
    "mean_neck = 1\n",
    "std_neck = 0.2\n",
    "\n",
    "    #paint\n",
    "num_paint = 1\n",
    "mean_paint = 4\n",
    "std_paint = 0.3\n",
    "\n",
    "    #ensambling\n",
    "num_ensam = 4\n",
    "mean_ensam = 1\n",
    "std_ensam = 0.2\n",
    "\n",
    "\n",
    "#critical levels\n",
    "    #critical stock should be 1 business day greater than supplier take to come\n",
    "wood_critial_stock = (((8/mean_body) * num_body +\n",
    "                      (8/mean_neck) * num_neck) * 3) #2 days to deliver + 1 marging\n",
    "\n",
    "electronic_critical_stock = (8/mean_ensam) * num_ensam * 2 #1 day to deliver + 1 marging"
   ]
  },
  {
   "cell_type": "code",
   "execution_count": 24,
   "metadata": {},
   "outputs": [],
   "source": [
    "class Guitar_Factory:\n",
    "    def __init__(self, env):\n",
    "        self.wood = simpy.Container(env, capacity=wood_capacity, init=initial_wood)\n",
    "        self.wood_control = env.process(self.wood_stock_control(env))\n",
    "        self.electronic = simpy.Container(\n",
    "            env, capacity=electronic_capacity, init=initial_electronic\n",
    "        )\n",
    "        self.electronic_control = env.process(self.electronic_stock_control(env))\n",
    "        self.pre_paint = simpy.Container(env, capacity=pre_paint_capacity, init=0)\n",
    "        self.post_paint = simpy.Container(env, capacity=post_paint_capacity, init=0)\n",
    "        self.dispatch = simpy.Container(env, capacity=dispatch_capacity, init=0)\n",
    "\n",
    "    def wood_stock_control(self, env):\n",
    "        yield env.timeout(0)\n",
    "        while True:\n",
    "            if self.wood.level <= wood_critial_stock:\n",
    "                print(\n",
    "                    \"wood stock bellow critical level ({0}) at day {1}, hour {2}\".format(\n",
    "                        self.wood.level, int(env.now / 8), env.now % 8\n",
    "                    )\n",
    "                )\n",
    "                print(\"calling wood supplier\")\n",
    "                print(\"----------------------------------\")\n",
    "                yield env.timeout(16)\n",
    "                print(\n",
    "                    \"wood supplier arrives at day {0}, hour {1}\".format(\n",
    "                        int(env.now / 8), env.now % 8\n",
    "                    )\n",
    "                )\n",
    "                yield self.wood.put(300)\n",
    "                print(\"new wood stock is {0}\".format(self.wood.level))\n",
    "                print(\"----------------------------------\")\n",
    "                yield env.timeout(8)\n",
    "            else:\n",
    "                yield env.timeout(1)\n",
    "\n",
    "    def electronic_stock_control(self, env):\n",
    "        yield env.timeout(0)\n",
    "        while True:\n",
    "            if self.electronic.level <= electronic_critical_stock:\n",
    "                print(\n",
    "                    \"electronic stock bellow critical level ({0}) at day {1}, hour {2}\".format(\n",
    "                        self.electronic.level, int(env.now / 8), env.now % 8\n",
    "                    )\n",
    "                )\n",
    "                print(\"calling electronic supplier\")\n",
    "                print(\"----------------------------------\")\n",
    "                yield env.timeout(9)\n",
    "                print(\n",
    "                    \"electronic supplier arrives at day {0}, hour {1}\".format(\n",
    "                        int(env.now / 8), env.now % 8\n",
    "                    )\n",
    "                )\n",
    "                yield self.electronic.put(30)\n",
    "                print(\"new electronic stock is {0}\".format(self.electronic.level))\n",
    "                print(\"----------------------------------\")\n",
    "                yield env.timeout(8)\n",
    "            else:\n",
    "                yield env.timeout(1)\n",
    "\n",
    "\n",
    "def body_maker(env, guitar_factory):\n",
    "    while True:\n",
    "        yield guitar_factory.wood.get(1)\n",
    "        body_time = random.gauss(mean_body, std_body)\n",
    "        yield env.timeout(body_time)\n",
    "        yield guitar_factory.pre_paint.put(1)\n",
    "\n",
    "\n",
    "def neck_maker(env, guitar_factory):\n",
    "    while True:\n",
    "        yield guitar_factory.wood.get(1)\n",
    "        neck_time = random.gauss(mean_neck, std_neck)\n",
    "        yield env.timeout(neck_time)\n",
    "        yield guitar_factory.pre_paint.put(2)\n",
    "\n",
    "\n",
    "def painter(env, guitar_factory):\n",
    "    while True:\n",
    "        yield guitar_factory.pre_paint.get(10)\n",
    "        paint_time = random.gauss(mean_paint, std_paint)\n",
    "        yield env.timeout(paint_time)\n",
    "        yield guitar_factory.post_paint.put(10)\n",
    "\n",
    "\n",
    "def assembler(env, guitar_factory):\n",
    "    while True:\n",
    "        yield guitar_factory.post_paint.get(1)\n",
    "        yield guitar_factory.electronic.get(1)\n",
    "        assembling_time = max(random.gauss(mean_ensam, std_ensam), 1)\n",
    "        yield env.timeout(assembling_time)\n",
    "        yield guitar_factory.dispatch.put(1)\n",
    "\n",
    "\n",
    "# Generators\n",
    "\n",
    "\n",
    "def body_maker_gen(env, guitar_factory):\n",
    "    for i in range(num_body):\n",
    "        env.process(body_maker(env, guitar_factory))\n",
    "        yield env.timeout(0)\n",
    "\n",
    "\n",
    "def neck_maker_gen(env, guitar_factory):\n",
    "    for i in range(num_neck):\n",
    "        env.process(neck_maker(env, guitar_factory))\n",
    "        yield env.timeout(0)\n",
    "\n",
    "\n",
    "def painter_maker_gen(env, guitar_factory):\n",
    "    for i in range(num_paint):\n",
    "        env.process(painter(env, guitar_factory))\n",
    "        yield env.timeout(0)\n",
    "\n",
    "\n",
    "def assembler_maker_gen(env, guitar_factory):\n",
    "    for i in range(num_ensam):\n",
    "        env.process(assembler(env, guitar_factory))\n",
    "        yield env.timeout(0)\n",
    "\n",
    "\n",
    "# -------------------------------------------------\n",
    "\n"
   ]
  },
  {
   "cell_type": "code",
   "execution_count": 25,
   "metadata": {},
   "outputs": [
    {
     "name": "stdout",
     "output_type": "stream",
     "text": [
      "wood stock bellow critical level (70) at day 1, hour 1\n",
      "calling wood supplier\n",
      "----------------------------------\n",
      "wood supplier arrives at day 3, hour 1\n",
      "new wood stock is 322\n",
      "----------------------------------\n",
      "Pre paint has 60 bodys and necks ready to be painted\n",
      "Post paint has 0 bodys and necks ready to be assembled\n",
      "Dispatch has 87 guitars ready to go!\n",
      "----------------------------------\n",
      "SIMULATION COMPLETED\n"
     ]
    }
   ],
   "source": [
    "\n",
    "env = simpy.Environment()\n",
    "guitar_factory = Guitar_Factory(env)\n",
    "\n",
    "body_gen = env.process(body_maker_gen(env, guitar_factory))\n",
    "neck_gen = env.process(neck_maker_gen(env, guitar_factory))\n",
    "painter_gen = env.process(painter_maker_gen(env, guitar_factory))\n",
    "assembler_gen = env.process(assembler_maker_gen(env, guitar_factory))\n",
    "\n",
    "env.run(until=total_time)\n",
    "\n",
    "print(\n",
    "    f\"Pre paint has %d bodys and necks ready to be painted\"\n",
    "    % guitar_factory.pre_paint.level\n",
    ")\n",
    "print(\n",
    "    f\"Post paint has %d bodys and necks ready to be assembled\"\n",
    "    % guitar_factory.post_paint.level\n",
    ")\n",
    "print(f\"Dispatch has %d guitars ready to go!\" % guitar_factory.dispatch.level)\n",
    "print(f\"----------------------------------\")\n",
    "print(f\"SIMULATION COMPLETED\")"
   ]
  },
  {
   "cell_type": "code",
   "execution_count": null,
   "metadata": {},
   "outputs": [],
   "source": []
  },
  {
   "cell_type": "code",
   "execution_count": null,
   "metadata": {},
   "outputs": [],
   "source": []
  }
 ],
 "metadata": {
  "kernelspec": {
   "display_name": "mas_py310",
   "language": "python",
   "name": "python3"
  },
  "language_info": {
   "codemirror_mode": {
    "name": "ipython",
    "version": 3
   },
   "file_extension": ".py",
   "mimetype": "text/x-python",
   "name": "python",
   "nbconvert_exporter": "python",
   "pygments_lexer": "ipython3",
   "version": "3.10.14"
  }
 },
 "nbformat": 4,
 "nbformat_minor": 2
}
